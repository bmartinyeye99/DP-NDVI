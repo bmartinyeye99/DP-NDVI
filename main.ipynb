{
 "cells": [
  {
   "cell_type": "code",
   "execution_count": null,
   "metadata": {
    "vscode": {
     "languageId": "plaintext"
    }
   },
   "outputs": [],
   "source": [
    "import Experiment\n",
    "\n",
    "if __name__ == \"__main__\":\n",
    "    dataset_dir = r\"D:\\\\MRc\\\\FIIT\\\\DP_Model\\\\Datasets\\\\kazachstan_multispectral_UAV\\\\filght_session_02\\\\2022-06-09\\\\NNdataset\"\n",
    "    experiment = Experiment(dataset_dir, num_epochs=4, batch_size=2, lr=1e-3)\n",
    "    experiment.run()\n"
   ]
  }
 ],
 "metadata": {
  "language_info": {
   "name": "python"
  }
 },
 "nbformat": 4,
 "nbformat_minor": 2
}
